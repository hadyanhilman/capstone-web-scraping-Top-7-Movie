{
 "cells": [
  {
   "cell_type": "markdown",
   "metadata": {},
   "source": [
    "# Capstone Webscrapping using BeautifulSoup\n",
    "\n",
    "This notebook contains guidances & tasks on the data processing for the application\n",
    "\n",
    "## background\n",
    "\n",
    "(Please insert the background here )\n",
    "\n",
    "## Requesting the Data and Creating a BeautifulSoup\n",
    "\n",
    "Let's begin with requesting the web from the site with `get` method."
   ]
  },
  {
   "cell_type": "code",
   "execution_count": 1,
   "metadata": {
    "ExecuteTime": {
     "end_time": "2020-01-13T05:12:23.275508Z",
     "start_time": "2020-01-13T05:12:20.009898Z"
    }
   },
   "outputs": [],
   "source": [
    "import requests\n",
    "\n",
    "url_get = requests.get('https://www.imdb.com/search/title/?release_date=2021-01-01,2021-12-31')"
   ]
  },
  {
   "cell_type": "markdown",
   "metadata": {},
   "source": [
    "To visualize what exactly you get from the `request.get`, we can use .content so ee what we exactly get, in here i slice it so it won't make our screen full of the html we get from the page. You can delete the slicing if you want to see what we fully get."
   ]
  },
  {
   "cell_type": "code",
   "execution_count": 2,
   "metadata": {
    "ExecuteTime": {
     "end_time": "2020-01-13T05:12:23.290648Z",
     "start_time": "2020-01-13T05:12:23.277650Z"
    }
   },
   "outputs": [
    {
     "data": {
      "text/plain": [
       "b'\\n<!DOCTYPE html>\\n<html\\n    xmlns:og=\"http://ogp.me/ns#\"\\n    xmlns:fb=\"http://www.facebook.com/2008/fbml\">\\n    <head>\\n         \\n\\n        <meta charset=\"utf-8\">\\n        <meta http-equiv=\"X-UA-Compatible\" content=\"IE=edge\">\\n\\n\\n\\n\\n        <script type=\"text/javascript\">var IMDbTimer={starttime: new Date().getTime(),pt:\\'java\\'};</script>\\n\\n<script>\\n    if (typeof uet == \\'function\\') {\\n      uet(\"bb\", \"LoadTitle\", {wb: 1});\\n    }\\n</script>\\n  <script>(function(t){ (t.events = t.events || {})[\"csm_head_pre_'"
      ]
     },
     "execution_count": 2,
     "metadata": {},
     "output_type": "execute_result"
    }
   ],
   "source": [
    "url_get.content[1:500]"
   ]
  },
  {
   "cell_type": "markdown",
   "metadata": {},
   "source": [
    "As we can see we get a very unstructured and complex html, which actually contains the codes needed to show the webpages on your web browser. But we as human still confused what and where we can use that piece of code, so here where we use the beautifulsoup. Beautiful soup class will result a beautifulsoup object. Beautiful Soup transforms a complex HTML document into a complex tree of Python objects. \n",
    "\n",
    "Let's make Beautiful soup object and feel free to explore the object here."
   ]
  },
  {
   "cell_type": "code",
   "execution_count": 3,
   "metadata": {
    "ExecuteTime": {
     "end_time": "2020-01-13T05:12:23.808122Z",
     "start_time": "2020-01-13T05:12:23.292610Z"
    }
   },
   "outputs": [],
   "source": [
    "from bs4 import BeautifulSoup \n",
    "\n",
    "soup = BeautifulSoup(url_get.content,\"html.parser\")"
   ]
  },
  {
   "cell_type": "markdown",
   "metadata": {},
   "source": [
    "## Finding the right key to scrap the data & Extracting the right information"
   ]
  },
  {
   "cell_type": "markdown",
   "metadata": {},
   "source": [
    "Find the key and put the key into the `.find()` Put all the exploring the right key at this cell. (please change this markdown with your explanation)"
   ]
  },
  {
   "cell_type": "code",
   "execution_count": 4,
   "metadata": {
    "ExecuteTime": {
     "end_time": "2020-01-13T05:12:23.878904Z",
     "start_time": "2020-01-13T05:12:23.854974Z"
    }
   },
   "outputs": [
    {
     "name": "stdout",
     "output_type": "stream",
     "text": [
      "div id=\"main\">\n",
      " <div class=\"article\">\n",
      "  <h1 class=\"header\">\n",
      "   Released between 2021-01-01 and 2021-12-31\n",
      "(Sorted by Popularity Ascending)\n",
      "  </h1>\n",
      "  <div class=\"nav\">\n",
      "   <br class=\"clear\"/>\n",
      "   <div class=\"display-mode float-right\">\n",
      "    View Mode:\n",
      "    <a class=\"compact\" href=\"/search/title/?release_date=2021-01-01,2021-12-31&amp;view=simple\">\n",
      "     Compact\n",
      "    </a>\n",
      "    <span class=\"ghost\">\n",
      "     |\n",
      "    </span>\n",
      "    <a class=\"detailed\" href=\"/search/title/?release_date=2021-01-01,2021-12-31&amp;view=\n"
     ]
    }
   ],
   "source": [
    "#table = soup.find('//div[@class=\"lister-item mode-advanced\"]')\n",
    "table = soup.find('div',attrs={'id':'main'})\n",
    "print(table.prettify()[1:500])"
   ]
  },
  {
   "cell_type": "markdown",
   "metadata": {},
   "source": [
    "Finding row length."
   ]
  },
  {
   "cell_type": "code",
   "execution_count": 5,
   "metadata": {},
   "outputs": [
    {
     "data": {
      "text/plain": [
       "50"
      ]
     },
     "execution_count": 5,
     "metadata": {},
     "output_type": "execute_result"
    }
   ],
   "source": [
    "row = table.find_all('div',attrs={'class':'lister-item mode-advanced'})\n",
    "row_length = len(row)\n",
    "row_length"
   ]
  },
  {
   "cell_type": "markdown",
   "metadata": {},
   "source": [
    "Do the scrapping process here (please change this markdown with your explanation)"
   ]
  },
  {
   "cell_type": "code",
   "execution_count": 6,
   "metadata": {},
   "outputs": [],
   "source": [
    "import math"
   ]
  },
  {
   "cell_type": "code",
   "execution_count": 7,
   "metadata": {},
   "outputs": [
    {
     "data": {
      "text/plain": [
       "15542"
      ]
     },
     "execution_count": 7,
     "metadata": {},
     "output_type": "execute_result"
    }
   ],
   "source": [
    "test = table.find('div',attrs={'class':'desc'}).text\n",
    "total_film=int(test[9:16].replace(',',\"\"))\n",
    "page_count=math.ceil((total_film/row_length))\n",
    "page_count"
   ]
  },
  {
   "cell_type": "code",
   "execution_count": 78,
   "metadata": {
    "ExecuteTime": {
     "end_time": "2020-01-13T05:12:24.008256Z",
     "start_time": "2020-01-13T05:12:23.980358Z"
    }
   },
   "outputs": [
    {
     "data": {
      "text/plain": [
       "[('CODA', '8.1', '74', '88,340'),\n",
       " ('The Power of the Dog', '6.9', '89', '148,492'),\n",
       " ('King Richard', '7.5', '76', '79,137'),\n",
       " ('Dune: Part One', '8.1', '74', '535,814'),\n",
       " ('The Eyes of Tammy Faye', '6.6', '55', '22,769'),\n",
       " ('Spider-Man: No Way Home', '8.5', '71', '573,677'),\n",
       " ('West Side Story', '7.3', '85', '63,929'),\n",
       " ('Nightmare Alley', '7.1', '70', '105,071'),\n",
       " ('Licorice Pizza', '7.4', '90', '71,266'),\n",
       " ('Encanto', '7.3', '75', '179,845'),\n",
       " ('Belfast', '7.3', '75', '52,415'),\n",
       " ('Doraibu mai kâ', '7.6', '91', '32,338'),\n",
       " ('1883', '9.0', 0, '46,512'),\n",
       " (\"Don't Look Up\", '7.2', '49', '480,436'),\n",
       " ('Verdens verste menneske', '7.9', '90', '34,726'),\n",
       " ('tick, tick...BOOM!', '7.5', '74', '91,524'),\n",
       " (\"The King's Man\", '6.3', '44', '108,070'),\n",
       " ('Sing 2', '7.5', '49', '42,454'),\n",
       " ('Spencer', '6.7', '76', '53,292'),\n",
       " ('Boiling Point', '7.5', '73', '13,174'),\n",
       " ('The Lost Daughter', '6.7', '86', '53,635'),\n",
       " ('Free Guy', '7.2', '62', '322,780'),\n",
       " ('House of Gucci', '6.7', '59', '95,504'),\n",
       " ('Eternals', '6.4', '52', '285,045'),\n",
       " ('No Time to Die', '7.3', '68', '335,228'),\n",
       " ('Gekijouban Jujutsu Kaisen 0', '8.1', '72', '5,573'),\n",
       " ('Only Murders in the Building', '8.1', 0, '64,400'),\n",
       " (\"Zack Snyder's Justice League\", '8.1', '54', '370,439'),\n",
       " ('The Matrix Resurrections', '5.7', '63', '214,060'),\n",
       " ('The Book of Boba Fett', '7.5', 0, '108,819'),\n",
       " ('Superman & Lois', '7.9', 0, '28,310'),\n",
       " ('Ghostbusters: Afterlife', '7.2', '45', '136,467'),\n",
       " ('The French Dispatch', '7.2', '74', '98,632'),\n",
       " ('Being the Ricardos', '6.6', '60', '37,044'),\n",
       " ('The Tragedy of Macbeth', '7.1', '87', '28,822'),\n",
       " ('Resident Alien', '8.2', 0, '34,323'),\n",
       " ('Yellowjackets', '8.0', 0, '35,058'),\n",
       " ('The Last Duel', '7.4', '67', '132,783'),\n",
       " ('The Suicide Squad', '7.2', '72', '319,444'),\n",
       " ('Cruella', '7.4', '59', '216,815'),\n",
       " ('Arcane: League of Legends', '9.1', 0, '168,958'),\n",
       " ('Ghosts', '7.8', 0, '11,194'),\n",
       " ('Flugt', '8.0', '91', '11,894'),\n",
       " ('Army of the Dead', '5.7', '57', '165,210'),\n",
       " ('Abbott Elementary', '8.3', 0, '6,070'),\n",
       " ('Dopesick', '8.7', 0, '43,462'),\n",
       " (\"NCIS: Hawai'i\", '6.3', 0, '4,186'),\n",
       " ('Madres paralelas', '7.1', '88', '21,277'),\n",
       " ('Shang-Chi and the Legend of the Ten Rings', '7.5', '71', '341,221'),\n",
       " ('F9', '5.2', '58', '120,026')]"
      ]
     },
     "execution_count": 78,
     "metadata": {},
     "output_type": "execute_result"
    }
   ],
   "source": [
    "temp = [] #initiating a tuple\n",
    "\n",
    "\n",
    "for i in range(0, row_length):\n",
    "    \n",
    "    # untuk mendapatkan judul film\n",
    "    titles=table.select('h3.lister-item-header a')[i].text\n",
    "    \n",
    "    # untuk mendapatkan rating imdb\n",
    "\n",
    "    imdbs=table.select('div.ratings-bar div strong')[i].text\n",
    "\n",
    "    # untuk mendapatkan metascores\n",
    "\n",
    "    try :\n",
    "        metascores=table.select('div[class=\"ratings-bar\"]')[i].text\n",
    "        metascores=metascores.split('\\n')[35].strip()\n",
    "\n",
    "    except:\n",
    "        metascores=0\n",
    "\n",
    "    # untuk mendapatkan jumlah votes\n",
    "\n",
    "    votes=table.select('p[class=\"sort-num_votes-visible\"]')[i].text\n",
    "    votes=votes.split('\\n')[2]\n",
    "\n",
    "        \n",
    "    temp.append((titles,imdbs,metascores,votes))\n",
    "temp\n"
   ]
  },
  {
   "cell_type": "markdown",
   "metadata": {},
   "source": [
    "## Creating data frame & Data wrangling"
   ]
  },
  {
   "cell_type": "markdown",
   "metadata": {},
   "source": [
    "Put the array into dataframe"
   ]
  },
  {
   "cell_type": "code",
   "execution_count": 90,
   "metadata": {
    "ExecuteTime": {
     "end_time": "2020-01-13T05:12:41.517372Z",
     "start_time": "2020-01-13T05:12:29.130015Z"
    }
   },
   "outputs": [
    {
     "data": {
      "text/html": [
       "<div>\n",
       "<style scoped>\n",
       "    .dataframe tbody tr th:only-of-type {\n",
       "        vertical-align: middle;\n",
       "    }\n",
       "\n",
       "    .dataframe tbody tr th {\n",
       "        vertical-align: top;\n",
       "    }\n",
       "\n",
       "    .dataframe thead th {\n",
       "        text-align: right;\n",
       "    }\n",
       "</style>\n",
       "<table border=\"1\" class=\"dataframe\">\n",
       "  <thead>\n",
       "    <tr style=\"text-align: right;\">\n",
       "      <th></th>\n",
       "      <th>title</th>\n",
       "      <th>imdb</th>\n",
       "      <th>metascores</th>\n",
       "      <th>votes</th>\n",
       "    </tr>\n",
       "  </thead>\n",
       "  <tbody>\n",
       "    <tr>\n",
       "      <th>0</th>\n",
       "      <td>CODA</td>\n",
       "      <td>8.1</td>\n",
       "      <td>74</td>\n",
       "      <td>88,340</td>\n",
       "    </tr>\n",
       "    <tr>\n",
       "      <th>1</th>\n",
       "      <td>The Power of the Dog</td>\n",
       "      <td>6.9</td>\n",
       "      <td>89</td>\n",
       "      <td>148,492</td>\n",
       "    </tr>\n",
       "    <tr>\n",
       "      <th>2</th>\n",
       "      <td>King Richard</td>\n",
       "      <td>7.5</td>\n",
       "      <td>76</td>\n",
       "      <td>79,137</td>\n",
       "    </tr>\n",
       "    <tr>\n",
       "      <th>3</th>\n",
       "      <td>Dune: Part One</td>\n",
       "      <td>8.1</td>\n",
       "      <td>74</td>\n",
       "      <td>535,814</td>\n",
       "    </tr>\n",
       "    <tr>\n",
       "      <th>4</th>\n",
       "      <td>The Eyes of Tammy Faye</td>\n",
       "      <td>6.6</td>\n",
       "      <td>55</td>\n",
       "      <td>22,769</td>\n",
       "    </tr>\n",
       "  </tbody>\n",
       "</table>\n",
       "</div>"
      ],
      "text/plain": [
       "                    title imdb metascores    votes\n",
       "0                    CODA  8.1         74   88,340\n",
       "1    The Power of the Dog  6.9         89  148,492\n",
       "2            King Richard  7.5         76   79,137\n",
       "3          Dune: Part One  8.1         74  535,814\n",
       "4  The Eyes of Tammy Faye  6.6         55   22,769"
      ]
     },
     "execution_count": 90,
     "metadata": {},
     "output_type": "execute_result"
    }
   ],
   "source": [
    "import pandas as pd\n",
    "df=pd.DataFrame(temp, columns = ('title','imdb','metascores','votes'))\n",
    "#df = pd.DataFrame({'title' : title ,'imdb':imdb, 'metascores':metascore,'votes':vote})\n",
    "df.head()"
   ]
  },
  {
   "cell_type": "markdown",
   "metadata": {},
   "source": [
    "Do the data cleaning here (please change this markdown with your explanation of what you do for data wrangling)\n",
    "\n",
    "    - After checking the data types . we need to change imdb rating to dtype ('float64') and change metascores and votes to {'int64'}\n",
    "    - And also based on this scraping purpose , we want to make a plot for top 7 popular movie in 2021, i decide to make a several data frame to see top 7 movie based on this criteria :\n",
    "     -> IMDB Rating\n",
    "     -> Metascore\n",
    "     -> Votes\n",
    "\n",
    "     and sort them by it's value , descending"
   ]
  },
  {
   "cell_type": "code",
   "execution_count": 91,
   "metadata": {},
   "outputs": [
    {
     "data": {
      "text/plain": [
       "title         object\n",
       "imdb          object\n",
       "metascores    object\n",
       "votes         object\n",
       "dtype: object"
      ]
     },
     "execution_count": 91,
     "metadata": {},
     "output_type": "execute_result"
    }
   ],
   "source": [
    "df.dtypes"
   ]
  },
  {
   "cell_type": "code",
   "execution_count": 92,
   "metadata": {},
   "outputs": [],
   "source": [
    "df['imdb']=df['imdb'].astype('float64')\n",
    "df['metascores']=df['metascores'].astype('int64')\n",
    "df['votes']=df['votes'].str.replace(',',\"\")\n",
    "df['votes']=df['votes'].astype('int64')"
   ]
  },
  {
   "cell_type": "code",
   "execution_count": 93,
   "metadata": {},
   "outputs": [
    {
     "data": {
      "text/plain": [
       "title          object\n",
       "imdb          float64\n",
       "metascores      int64\n",
       "votes           int64\n",
       "dtype: object"
      ]
     },
     "execution_count": 93,
     "metadata": {},
     "output_type": "execute_result"
    }
   ],
   "source": [
    "df.dtypes"
   ]
  },
  {
   "cell_type": "code",
   "execution_count": 94,
   "metadata": {
    "ExecuteTime": {
     "end_time": "2020-01-13T05:12:59.165559Z",
     "start_time": "2020-01-13T05:12:58.910012Z"
    }
   },
   "outputs": [
    {
     "data": {
      "text/html": [
       "<div>\n",
       "<style scoped>\n",
       "    .dataframe tbody tr th:only-of-type {\n",
       "        vertical-align: middle;\n",
       "    }\n",
       "\n",
       "    .dataframe tbody tr th {\n",
       "        vertical-align: top;\n",
       "    }\n",
       "\n",
       "    .dataframe thead th {\n",
       "        text-align: right;\n",
       "    }\n",
       "</style>\n",
       "<table border=\"1\" class=\"dataframe\">\n",
       "  <thead>\n",
       "    <tr style=\"text-align: right;\">\n",
       "      <th></th>\n",
       "      <th>title</th>\n",
       "      <th>metascores</th>\n",
       "    </tr>\n",
       "  </thead>\n",
       "  <tbody>\n",
       "    <tr>\n",
       "      <th>11</th>\n",
       "      <td>Doraibu mai kâ</td>\n",
       "      <td>91</td>\n",
       "    </tr>\n",
       "    <tr>\n",
       "      <th>42</th>\n",
       "      <td>Flugt</td>\n",
       "      <td>91</td>\n",
       "    </tr>\n",
       "    <tr>\n",
       "      <th>8</th>\n",
       "      <td>Licorice Pizza</td>\n",
       "      <td>90</td>\n",
       "    </tr>\n",
       "    <tr>\n",
       "      <th>14</th>\n",
       "      <td>Verdens verste menneske</td>\n",
       "      <td>90</td>\n",
       "    </tr>\n",
       "    <tr>\n",
       "      <th>1</th>\n",
       "      <td>The Power of the Dog</td>\n",
       "      <td>89</td>\n",
       "    </tr>\n",
       "    <tr>\n",
       "      <th>47</th>\n",
       "      <td>Madres paralelas</td>\n",
       "      <td>88</td>\n",
       "    </tr>\n",
       "    <tr>\n",
       "      <th>34</th>\n",
       "      <td>The Tragedy of Macbeth</td>\n",
       "      <td>87</td>\n",
       "    </tr>\n",
       "  </tbody>\n",
       "</table>\n",
       "</div>"
      ],
      "text/plain": [
       "                      title  metascores\n",
       "11           Doraibu mai kâ          91\n",
       "42                    Flugt          91\n",
       "8            Licorice Pizza          90\n",
       "14  Verdens verste menneske          90\n",
       "1      The Power of the Dog          89\n",
       "47         Madres paralelas          88\n",
       "34   The Tragedy of Macbeth          87"
      ]
     },
     "execution_count": 94,
     "metadata": {},
     "output_type": "execute_result"
    }
   ],
   "source": [
    "top7_movie_by_metascore=df[['title','metascores']]\n",
    "top7_movie_by_metascore=top7_movie_by_metascore.sort_values(by='metascores',ascending=False).head(7)\n",
    "top7_movie_by_metascore"
   ]
  },
  {
   "cell_type": "code",
   "execution_count": 95,
   "metadata": {},
   "outputs": [
    {
     "data": {
      "text/html": [
       "<div>\n",
       "<style scoped>\n",
       "    .dataframe tbody tr th:only-of-type {\n",
       "        vertical-align: middle;\n",
       "    }\n",
       "\n",
       "    .dataframe tbody tr th {\n",
       "        vertical-align: top;\n",
       "    }\n",
       "\n",
       "    .dataframe thead th {\n",
       "        text-align: right;\n",
       "    }\n",
       "</style>\n",
       "<table border=\"1\" class=\"dataframe\">\n",
       "  <thead>\n",
       "    <tr style=\"text-align: right;\">\n",
       "      <th></th>\n",
       "      <th>title</th>\n",
       "      <th>imdb</th>\n",
       "    </tr>\n",
       "  </thead>\n",
       "  <tbody>\n",
       "    <tr>\n",
       "      <th>40</th>\n",
       "      <td>Arcane: League of Legends</td>\n",
       "      <td>9.1</td>\n",
       "    </tr>\n",
       "    <tr>\n",
       "      <th>12</th>\n",
       "      <td>1883</td>\n",
       "      <td>9.0</td>\n",
       "    </tr>\n",
       "    <tr>\n",
       "      <th>45</th>\n",
       "      <td>Dopesick</td>\n",
       "      <td>8.7</td>\n",
       "    </tr>\n",
       "    <tr>\n",
       "      <th>5</th>\n",
       "      <td>Spider-Man: No Way Home</td>\n",
       "      <td>8.5</td>\n",
       "    </tr>\n",
       "    <tr>\n",
       "      <th>44</th>\n",
       "      <td>Abbott Elementary</td>\n",
       "      <td>8.3</td>\n",
       "    </tr>\n",
       "    <tr>\n",
       "      <th>35</th>\n",
       "      <td>Resident Alien</td>\n",
       "      <td>8.2</td>\n",
       "    </tr>\n",
       "    <tr>\n",
       "      <th>0</th>\n",
       "      <td>CODA</td>\n",
       "      <td>8.1</td>\n",
       "    </tr>\n",
       "  </tbody>\n",
       "</table>\n",
       "</div>"
      ],
      "text/plain": [
       "                        title  imdb\n",
       "40  Arcane: League of Legends   9.1\n",
       "12                       1883   9.0\n",
       "45                   Dopesick   8.7\n",
       "5     Spider-Man: No Way Home   8.5\n",
       "44          Abbott Elementary   8.3\n",
       "35             Resident Alien   8.2\n",
       "0                        CODA   8.1"
      ]
     },
     "execution_count": 95,
     "metadata": {},
     "output_type": "execute_result"
    }
   ],
   "source": [
    "top7_movie_by_imdb_score=df[['title','imdb']]\n",
    "top7_movie_by_imdb_score=top7_movie_by_imdb_score.sort_values(by='imdb',ascending=False).head(7)\n",
    "top7_movie_by_imdb_score"
   ]
  },
  {
   "cell_type": "code",
   "execution_count": 96,
   "metadata": {},
   "outputs": [
    {
     "data": {
      "text/html": [
       "<div>\n",
       "<style scoped>\n",
       "    .dataframe tbody tr th:only-of-type {\n",
       "        vertical-align: middle;\n",
       "    }\n",
       "\n",
       "    .dataframe tbody tr th {\n",
       "        vertical-align: top;\n",
       "    }\n",
       "\n",
       "    .dataframe thead th {\n",
       "        text-align: right;\n",
       "    }\n",
       "</style>\n",
       "<table border=\"1\" class=\"dataframe\">\n",
       "  <thead>\n",
       "    <tr style=\"text-align: right;\">\n",
       "      <th></th>\n",
       "      <th>title</th>\n",
       "      <th>votes</th>\n",
       "    </tr>\n",
       "  </thead>\n",
       "  <tbody>\n",
       "    <tr>\n",
       "      <th>5</th>\n",
       "      <td>Spider-Man: No Way Home</td>\n",
       "      <td>573677</td>\n",
       "    </tr>\n",
       "    <tr>\n",
       "      <th>3</th>\n",
       "      <td>Dune: Part One</td>\n",
       "      <td>535814</td>\n",
       "    </tr>\n",
       "    <tr>\n",
       "      <th>13</th>\n",
       "      <td>Don't Look Up</td>\n",
       "      <td>480436</td>\n",
       "    </tr>\n",
       "    <tr>\n",
       "      <th>27</th>\n",
       "      <td>Zack Snyder's Justice League</td>\n",
       "      <td>370439</td>\n",
       "    </tr>\n",
       "    <tr>\n",
       "      <th>48</th>\n",
       "      <td>Shang-Chi and the Legend of the Ten Rings</td>\n",
       "      <td>341221</td>\n",
       "    </tr>\n",
       "    <tr>\n",
       "      <th>24</th>\n",
       "      <td>No Time to Die</td>\n",
       "      <td>335228</td>\n",
       "    </tr>\n",
       "    <tr>\n",
       "      <th>21</th>\n",
       "      <td>Free Guy</td>\n",
       "      <td>322780</td>\n",
       "    </tr>\n",
       "  </tbody>\n",
       "</table>\n",
       "</div>"
      ],
      "text/plain": [
       "                                        title   votes\n",
       "5                     Spider-Man: No Way Home  573677\n",
       "3                              Dune: Part One  535814\n",
       "13                              Don't Look Up  480436\n",
       "27               Zack Snyder's Justice League  370439\n",
       "48  Shang-Chi and the Legend of the Ten Rings  341221\n",
       "24                             No Time to Die  335228\n",
       "21                                   Free Guy  322780"
      ]
     },
     "execution_count": 96,
     "metadata": {},
     "output_type": "execute_result"
    }
   ],
   "source": [
    "top7_movie_by_votes=df[['title','votes']]\n",
    "top7_movie_by_votes=top7_movie_by_votes.sort_values(by='votes',ascending=False).head(7)\n",
    "top7_movie_by_votes"
   ]
  },
  {
   "cell_type": "markdown",
   "metadata": {},
   "source": [
    "Data visualisation (please change this markdown with your explanation of what you do for data wrangling)\n",
    "\n",
    "    - The purpose of the visualization is to compare movie score and make rating of it so i decide to use bar plot to visualize the Data"
   ]
  },
  {
   "cell_type": "code",
   "execution_count": 54,
   "metadata": {},
   "outputs": [],
   "source": [
    "import matplotlib.pyplot as plt"
   ]
  },
  {
   "cell_type": "code",
   "execution_count": 66,
   "metadata": {},
   "outputs": [
    {
     "data": {
      "text/plain": [
       "(0.0, 10.0)"
      ]
     },
     "execution_count": 66,
     "metadata": {},
     "output_type": "execute_result"
    },
    {
     "data": {
      "image/png": "[encoded data removed]",
      "text/plain": [
       "<Figure size 432x288 with 1 Axes>"
      ]
     },
     "metadata": {
      "needs_background": "light"
     },
     "output_type": "display_data"
    }
   ],
   "source": [
    "fig,ax = plt.subplots()\n",
    "barh=ax.barh(y=top7_movie_by_imdb_score['title'],width= top7_movie_by_imdb_score['imdb'], align='center')\n",
    "ax.invert_yaxis()  # labels read top-to-bottom\n",
    "ax.set_xlabel('IMDB Ratings')\n",
    "ax.set_title('2021 - Top 7 Movie by IMDB Ratings')\n",
    "\n",
    "# Label with specially formatted floats\n",
    "ax.bar_label(barh, fmt='%.1f')\n",
    "ax.set_xlim(right=10)  # adjust xlim to fit labels\n"
   ]
  },
  {
   "cell_type": "code",
   "execution_count": 68,
   "metadata": {},
   "outputs": [
    {
     "data": {
      "text/plain": [
       "(0.0, 100.0)"
      ]
     },
     "execution_count": 68,
     "metadata": {},
     "output_type": "execute_result"
    },
    {
     "data": {
      "image/png": "[encoded data removed]",
      "text/plain": [
       "<Figure size 432x288 with 1 Axes>"
      ]
     },
     "metadata": {
      "needs_background": "light"
     },
     "output_type": "display_data"
    }
   ],
   "source": [
    "fig,bx = plt.subplots()\n",
    "barh=bx.barh(y=top7_movie_by_metascore['title'],width= top7_movie_by_metascore['metascores'], align='center')\n",
    "bx.invert_yaxis()  # labels read top-to-bottom\n",
    "bx.set_xlabel('Metascores')\n",
    "bx.set_title('2021 - Top 7 Movie by Metascore')\n",
    "\n",
    "# Label\n",
    "bx.bar_label(barh)\n",
    "bx.set_xlim(right=100)  # adjust xlim to fit labels"
   ]
  },
  {
   "cell_type": "code",
   "execution_count": 70,
   "metadata": {},
   "outputs": [
    {
     "data": {
      "text/plain": [
       "(0.0, 650000.0)"
      ]
     },
     "execution_count": 70,
     "metadata": {},
     "output_type": "execute_result"
    },
    {
     "data": {
      "image/png": "[encoded data removed]",
      "text/plain": [
       "<Figure size 432x288 with 1 Axes>"
      ]
     },
     "metadata": {
      "needs_background": "light"
     },
     "output_type": "display_data"
    }
   ],
   "source": [
    "fig,cx = plt.subplots()\n",
    "barh=cx.barh(y=top7_movie_by_votes['title'],width= top7_movie_by_votes['votes'], align='center')\n",
    "cx.invert_yaxis()  # labels read top-to-bottom\n",
    "cx.set_xlabel('Votes')\n",
    "cx.set_title('2021 - Top 7 Movie by Votes')\n",
    "\n",
    "# Label with specially formatted floats\n",
    "cx.bar_label(barh)\n",
    "cx.set_xlim(right=650000)  # adjust xlim to fit labels"
   ]
  },
  {
   "cell_type": "markdown",
   "metadata": {},
   "source": [
    "### Implementing your webscrapping to the flask dashboard\n",
    "\n",
    "- Copy paste all of your web scrapping process to the desired position on the `app.py`\n",
    "- Changing the title of the dasboard at `index.html`"
   ]
  },
  {
   "cell_type": "markdown",
   "metadata": {},
   "source": [
    "## Finishing This Notebook with Your Analysis and Conclusion\n",
    "\n",
    "First you can do start with making the data visualisation. "
   ]
  },
  {
   "cell_type": "markdown",
   "metadata": {},
   "source": [
    "The Conclusion of the 3 graph above are :\n",
    ">The Most Popular Movie based on criteria in 2021 are :\n",
    ">- Based on IMDB = Arcane: League of Legends with IMDB Rating 9.1\n",
    ">- Based on Metascore = Doraibu mai kâ and Flugt with Metascore 91\n",
    ">- Based on Votes = Spider-Man: No Way Home with total votes 573,677"
   ]
  },
  {
   "cell_type": "markdown",
   "metadata": {},
   "source": [
    "### Extra Challange\n",
    "\n",
    "This will be not included to the scoring. \n",
    "\n",
    "- You can create additional analysis from the data.\n",
    "- Implement it to the dashboard with at `app.py` dan `index.html`."
   ]
  }
 ],
 "metadata": {
  "interpreter": {
   "hash": "4b4b16aabf3cc8e7cb575ffca3e7cca6b794d815f8cef06eb84a3cd69eca5525"
  },
  "kernelspec": {
   "display_name": "Python 3.6.2 64-bit",
   "language": "python",
   "name": "python3"
  },
  "language_info": {
   "codemirror_mode": {
    "name": "ipython",
    "version": 3
   },
   "file_extension": ".py",
   "mimetype": "text/x-python",
   "name": "python",
   "nbconvert_exporter": "python",
   "pygments_lexer": "ipython3",
   "version": "3.10.4"
  }
 },
 "nbformat": 4,
 "nbformat_minor": 2
}
